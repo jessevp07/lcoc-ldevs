{
 "cells": [
  {
   "cell_type": "markdown",
   "metadata": {},
   "source": [
    "# Calculating the Levelized Cost of Charging\n",
    "This notebook is based on lcoc_demo.ipynb but has been modified to calculate county-level LCOC, including county-level electricity prices and fuel efficiency (if provided, the default data used here is from Borlaug et al.). The functions have also been modified to included multiple vehicle classes (if provided). Inclusion of these factors is only applicable to residential LCOC and depends on the data fed into the `calculate_county_residential_lcoc` function.\n",
    "\n",
    "\n",
    "Original text from Borlaug et al. version:\n",
    "\n",
    "EIA reports and [The Utility Rate Database](https://openei.org/wiki/Utility_Rate_Database) were used to estimate the annual cost of electricity for EV charging loads at the rate-, utility-, and state-levels. For residential TOU rates (URDB), it is assumed that the consumer will always charge at the lowest possible rate (off-peak). In determining the cost of electricity for residential charging, rates with demand charges are not included as they would require typical household energy profiles that vary greatly on a case-by-case basis. For estimating the cost of electricity for commercial use (e.g. DCFC stations), typical energy profiles (electricity demand scenarios) were generated to estimate fixed, demand, and energy charges for a variety of rate structures (TOU, tier, seasonal, demand, etc.)."
   ]
  },
  {
   "cell_type": "code",
   "execution_count": 1,
   "metadata": {},
   "outputs": [],
   "source": [
    "import sys\n",
    "import logging\n",
    "import numpy as np\n",
    "import pandas as pd\n",
    "\n",
    "sys.path.append(os.path.join('..',''))\n",
    "import config\n",
    "import lcoc.urdb as urdb\n",
    "import lcoc.afdc as afdc\n",
    "import lcoc.processing as proc\n",
    "import os\n",
    "from IPython.display import display\n",
    "import xlwings as xw"
   ]
  },
  {
   "cell_type": "markdown",
   "metadata": {},
   "source": [
    "## Set parameters"
   ]
  },
  {
   "cell_type": "code",
   "execution_count": 2,
   "metadata": {},
   "outputs": [],
   "source": [
    "# Specify version of URDB and AFDC datasets to use. If a specific date, this must be specified in the config file. The current setting will download today's version of the datasets.\n",
    "urdb_afdc_version = 'specific_date' # 'current'\n",
    "\n",
    "# Determine whether to run DCFC cost of electricity (COE) calculations, which include the EVI-FAST analysis that takes 3.5-4 hours. Only necessary to re-run if using new data or assumptions that deviate from the original analysis.\n",
    "# If True, DCFC COE analysis will run\n",
    "# If False, the results from the previous run will be used\n",
    "run_DCFC_COE = False"
   ]
  },
  {
   "cell_type": "markdown",
   "metadata": {},
   "source": [
    "## Load Data"
   ]
  },
  {
   "cell_type": "markdown",
   "metadata": {},
   "source": [
    "### EIA Data Processing\n",
    "**Data Source Information**  \n",
    "Note that a full census of all utilities is only collected every 8 years, the most recent of which was in 2019. The 2019 data is updated with 2020 data for the sample collected in 2020.\n",
    " - Annual Energy Outlook (eia_aeo_raw) data downloaded from https://www.eia.gov/outlooks/aeo/data/browser/#/?id=3-AEO2021&region=1-0&cases=ref2021~highprice~lowprice&start=2020&end=2050&f=A&linechart=~~~ref2021-d113020a.28-3-AEO2021.1-0~highprice-d113020a.28-3-AEO2021.1-0~lowprice-d113020a.28-3-AEO2021.1-0~ref2021-d113020a.13-3-AEO2021.1-0~highprice-d113020a.13-3-AEO2021.1-0~lowprice-d113020a.13-3-AEO2021.1-0~ref2021-d113020a.6-3-AEO2021.1-0~highprice-d113020a.6-3-AEO2021.1-0~lowprice-d113020a.6-3-AEO2021.1-0&map=highprice-d113020a.3-3-AEO2021.1-0&chartindexed=1&sourcekey=0\n",
    "     - If using a different AEO year, will need to recreate the chart for the desired AEO year and download data\n",
    " - table6 & table7 price files downloaded from https://www.eia.gov/electricity/sales_revenue_price/, need to be renamed with _YY for clarity\n",
    " - Service_Territory_YYYY & Delivery_Companies_YYYY downloaded from https://www.eia.gov/electricity/data/eia861/. \n",
    "     - Download zip file, unzip\n",
    "     - Copy Service_Territory_YYYY to eia/eiaid-crosswalk\n",
    "     - Copy Delivery_Companies_YYYY to eia/TX-delivery-companies\n",
    " - Run code chunk below"
   ]
  },
  {
   "cell_type": "code",
   "execution_count": 3,
   "metadata": {},
   "outputs": [
    {
     "name": "stdout",
     "output_type": "stream",
     "text": [
      "Loading data.\n",
      "Data loaded.\n",
      "AEO data processed.\n",
      "2019 census EIA residential electricity price data contains 3048 utility-state groups, 2020 sample EIA residential electricity price data contains 1439 utility-state groups\n",
      "2019 census EIA commercial electricity price data contains 3043 utility-state groups, 2020 census EIA commercial electricity price data contains 1453 utility-state groups\n",
      "Updating entities in Census price data with most recent Service Territory list\n",
      "Number of residential utilities in sample but not in census data: 0\n",
      "Number of commercial utilities in sample but not in census data: 0\n",
      "Updating census data with sample prices where applicable\n",
      "Reconciling Texas Retail Energy Providers (REP) / Retail Power Marketer (RPM) and TDU mismatch\n",
      "Customer-weighted average residential price for Texas RPMs is 12.65 cents per kWh\n",
      "Customer-weighted average commercial price for Texas RPMs is 9.35 cents per kWh\n",
      "Final residential electricity price data contains 2980 utility-state groups\n",
      "Final commercial electricity price data contains 2980 utility-state groups\n",
      "Final utility-state crosswalk data contains 3110 utility-state groups\n",
      "Final utility-state-county crosswalk data contains 11796 utility-state-county groups\n",
      "All data processed and exported to \"eia\" data folder.\n"
     ]
    }
   ],
   "source": [
    "## Set import parameters\n",
    "eia_price_yr_c = '2019' # c = census\n",
    "eia_price_yr_s = '2020' # s = sample\n",
    "aeo_yr = '2021'\n",
    "\n",
    "fips_state_county = proc.state_county_FIPS(fips_state_file_path=os.path.join(config.DATA_PATH,'census_bureau','fips_state.txt'),\n",
    "                                            fips_state_county_file_path=os.path.join(config.DATA_PATH,'census_bureau','national_county.txt'))\n",
    "proc.eia_data(eia_price_yr_c=eia_price_yr_c,eia_price_yr_s=eia_price_yr_s,aeo_yr=aeo_yr,fips_state_county=fips_state_county)\n",
    "eia_aeo = pd.read_csv(os.path.join(config.DATA_PATH,'eia','15yr-gas-electricity-price-projections',f'eia_price_scenarios_aeo{aeo_yr[-2:]}.csv'))"
   ]
  },
  {
   "cell_type": "markdown",
   "metadata": {},
   "source": [
    "### Load & Process Data"
   ]
  },
  {
   "cell_type": "code",
   "execution_count": 4,
   "metadata": {},
   "outputs": [
    {
     "name": "stdout",
     "output_type": "stream",
     "text": [
      "C:\\Users\\Jesse Vega-Perkins\\Documents\\thesis_ev\\02_analysis\\lcoc-ldevs\\data\\urdb\\usurdb_20220526.csv\n",
      "Total: (50311, 670)\n",
      "Res: (11460, 670)\n",
      "Com: (32503, 670)\n",
      "filter expired rates\n",
      "Res: (6151, 670)\n",
      "Com: (17961, 670)\n",
      "size of rate dataframes:\n",
      "Res: (4772, 732)\n",
      "Com: (7541, 731)\n",
      "res rate structure breakdown\n",
      "com rate structure breakdown\n"
     ]
    },
    {
     "data": {
      "text/plain": [
       "{'demand': 4196,\n",
       " 'no_demand': 3345,\n",
       " 'demand/tier': 1282,\n",
       " 'demand/fixed': 2914,\n",
       " 'no_demand/tier': 1299,\n",
       " 'no_demand/fixed': 2046,\n",
       " 'demand/tier/seasonal': 158,\n",
       " 'demand/tier/no_seasonal': 1124,\n",
       " 'demand/fixed/seasonal': 517,\n",
       " 'demand/fixed/no_seasonal': 2397,\n",
       " 'no_demand/tier/seasonal': 326,\n",
       " 'no_demand/tier/no_seasonal': 973,\n",
       " 'no_demand/fixed/seasonal': 320,\n",
       " 'no_demand/fixed/no_seasonal': 1726,\n",
       " 'demand/tier/seasonal/tou': 21,\n",
       " 'demand/tier/seasonal/no_tou': 137,\n",
       " 'demand/tier/no_seasonal/tou': 13,\n",
       " 'demand/tier/no_seasonal/no_tou': 1111,\n",
       " 'demand/fixed/seasonal/tou': 240,\n",
       " 'demand/fixed/seasonal/no_tou': 277,\n",
       " 'demand/fixed/no_seasonal/tou': 243,\n",
       " 'demand/fixed/no_seasonal/no_tou': 2154,\n",
       " 'no_demand/tier/seasonal/tou': 7,\n",
       " 'no_demand/tier/seasonal/no_tou': 319,\n",
       " 'no_demand/tier/no_seasonal/tou': 4,\n",
       " 'no_demand/tier/no_seasonal/no_tou': 969,\n",
       " 'no_demand/fixed/seasonal/tou': 96,\n",
       " 'no_demand/fixed/seasonal/no_tou': 224,\n",
       " 'no_demand/fixed/no_seasonal/tou': 171,\n",
       " 'no_demand/fixed/no_seasonal/no_tou': 1555}"
      ]
     },
     "execution_count": 4,
     "metadata": {},
     "output_type": "execute_result"
    }
   ],
   "source": [
    "## LOAD DATA ##\n",
    "if urdb_afdc_version == 'current':\n",
    "    db = urdb.DatabaseRates() # gets current snapshot of URDB and saves it to db\n",
    "elif urdb_afdc_version == 'specific_date':\n",
    "    urdb_path = config.URDB_PATH\n",
    "    print(config.URDB_PATH)\n",
    "    db = urdb.DatabaseRates(urdb_path)\n",
    "\n",
    "print(\"Total:\", db.rate_data.shape)\n",
    "print(\"Res:\", db.res_rate_data.shape)\n",
    "print(\"Com:\", db.com_rate_data.shape)\n",
    "\n",
    "print('filter expired rates')\n",
    "db.filter_stale_rates(industry='residential')\n",
    "print(\"Res:\", db.res_rate_data.shape)\n",
    "\n",
    "db.filter_stale_rates(industry='commercial')\n",
    "print(\"Com:\", db.com_rate_data.shape)\n",
    "\n",
    "# update commercial rates with manual changes to demand and energy usage limits (included in description but missing from database fields)\n",
    "urdb_rates_update = pd.read_excel(os.path.join(config.DATA_PATH,'urdb','urdb_rates_update_202205.xlsx'),sheet_name='changed_rates')\n",
    "urdb_rates_update.set_index(keys='label',inplace=True)\n",
    "db.com_rate_data.set_index(keys='label',inplace=True)\n",
    "db.com_rate_data.update(urdb_rates_update,overwrite=True)\n",
    "db.com_rate_data = db.com_rate_data.reset_index()\n",
    "\n",
    "# classify rates by is_tier, is_seasonal, is_TOU, is_ev-specific (residential only)\n",
    "ev_rate_words_filepath = os.path.join(config.HOME_PATH,'filters','urdb_res_ev_specific_rate_words.txt')\n",
    "\n",
    "db.classify_rate_structures(industry='residential', \n",
    "                            ev_rate_words_file=ev_rate_words_filepath)\n",
    "\n",
    "db.classify_rate_structures(industry='commercial')\n",
    "\n",
    "# standardize units of reporting for commercial rates\n",
    "db.com_rate_preprocessing()\n",
    "\n",
    "filters_path = os.path.join(config.HOME_PATH,'filters')\n",
    "\n",
    "# filter demand rates (residential only)\n",
    "db.filter_demand_rates(industry='residential') \n",
    "\n",
    "# filter commercial rates missing critical fields to approx the cost of electricity\n",
    "db.additional_com_rate_filters()\n",
    "\n",
    "# filter rates containing certain phrases in filters/\n",
    "db.filter_on_phrases(industry='residential', filters_path=filters_path)\n",
    "db.filter_on_phrases(industry='commercial', filters_path=filters_path)\n",
    "\n",
    "# combine base rate + adjusted rate\n",
    "db.combine_rates(industry='residential')\n",
    "db.combine_rates(industry='commercial')\n",
    "\n",
    "# filter null rates\n",
    "db.filter_null_rates(industry='residential')\n",
    "db.filter_null_rates(industry='commercial')\n",
    "\n",
    "print('size of rate dataframes:')\n",
    "print(\"Res:\", db.res_rate_data.shape)\n",
    "print(\"Com:\", db.com_rate_data.shape)\n",
    "\n",
    "print('res rate structure breakdown')\n",
    "db.generate_classification_tree_values(industry='residential')\n",
    "\n",
    "print('com rate structure breakdown')\n",
    "db.generate_classification_tree_values(industry='commercial')"
   ]
  },
  {
   "cell_type": "markdown",
   "metadata": {},
   "source": [
    "### Residential & Workplace/Public-L2 COE & LCOC"
   ]
  },
  {
   "cell_type": "code",
   "execution_count": 5,
   "metadata": {},
   "outputs": [
    {
     "name": "stdout",
     "output_type": "stream",
     "text": [
      "calculate annual electricity cost (rates)\n",
      "Complete, 4766 rates included.\n",
      "calculate annual electricity cost (utility-level)\n",
      "Complete, 2980 utitilies represented (308 TOU rates used).\n",
      "calculate annual electricity cost (county-level)\n",
      "County aggregation complete, 3142 counties represented\n",
      "State aggregation complete, 51 states (including national average [US]) represented\n",
      "National weighted average complete, national cost of electricity is $0.1/kWh.\n",
      "calculate levelized cost of charging (county-level)\n",
      "calculate annual electricity cost (county-level)\n",
      "County aggregation complete, 3142 counties represented\n",
      "State aggregation complete, 51 states (including national average [US]) represented\n",
      "National weighted average complete, national commercial cost of electricity is $0.14/kWh.\n",
      "calculate levelized cost of charging (county-level)\n",
      "County-level LCOC calculation complete, national LCOC (workplace/pub-L2) is $0.24/kWh\n"
     ]
    }
   ],
   "source": [
    "## RESIDENTIAL COE and LCOC ##\n",
    "print('calculate annual electricity cost (rates)')\n",
    "db.calculate_annual_energy_cost_residential_v2(outpath = os.path.join(config.OUTPUT_PATH,'cost-of-electricity','urdb-res-rates'))\n",
    "\n",
    "print('calculate annual electricity cost (utility-level)')\n",
    "df = proc.res_rates_to_utils(\n",
    "    scenario='baseline',\n",
    "    urdb_rates_file=os.path.join(config.OUTPUT_PATH,'cost-of-electricity','urdb-res-rates','res_rates.csv'),\n",
    "    eia_cw_file=config.EIAID_TO_UTILITY_CW_PATH,\n",
    "    eia_utils_file=config.EIA_RES_PATH,\n",
    "    outpath=os.path.join(config.OUTPUT_PATH,'cost-of-electricity','res-utilities'))\n",
    "\n",
    "print('calculate annual electricity cost (county-level)')\n",
    "proc.res_utils_to_county_and_state(\n",
    "    utils_file=os.path.join(config.OUTPUT_PATH,'cost-of-electricity','res-utilities','res_utils.csv'), #lower_bnd_res_utils.csv, upper_bnd_res_utils.csv,\n",
    "    util_county_cw_file=config.EIAID_TO_COUNTY_CW_PATH,\n",
    "    outfile_county=os.path.join(config.OUTPUT_PATH,'cost-of-electricity','res-counties','res_counties_baseline.csv'),\n",
    "    outfile_state=os.path.join(config.OUTPUT_PATH,'cost-of-electricity','res-states','res_states_baseline.csv')) #res_states_lower_bnd.csv, res_states_upper_bnd.csv\n",
    "print('calculate levelized cost of charging (county-level)')\n",
    "lcoc_res_df = proc.calculate_county_residential_lcoc(\n",
    "    coe_file = os.path.join(config.OUTPUT_PATH,'cost-of-electricity','res-counties','res_counties_baseline.csv'),\n",
    "    county_fc_df=pd.read_csv(os.path.join(config.HOME_PATH,'outputs','veh_param','county_fuel_consumption.csv')), # fuel consumption by county (default sedan from Borlaug et al. used here)\n",
    "    lifetime_vmt_df=pd.read_csv(os.path.join(config.HOME_PATH,'outputs','veh_param','lifetime_vmt.csv')), # lifetime VMT by vehicle class (default sedan from Borlaug et al. used here)\n",
    "    fixed_costs_path = os.path.join(config.DATA_PATH,'fixed-costs','residential'),\n",
    "    fixed_costs_filenames = ['res_level1.txt', 'res_level2.txt'],\n",
    "    annual_maint_frac = 0.02, # Annual cost of maintenance (fraction of equip costs)\n",
    "    equip_lifespan = 10, # source: https://afdc.energy.gov/files/u/publication/evse_cost_report_2015.pdf\n",
    "    charge_eff = 0.85,\n",
    "    fraction_residential_charging = 0.81, \n",
    "    fraction_home_l1_charging = 0.16, \n",
    "    dr = 0.035, \n",
    "    print_message = False,\n",
    "    outfile = os.path.join(config.OUTPUT_PATH,'cost-of-charging','residential','res_counties_baseline.csv'))\n",
    "\n",
    "\n",
    "## PUBLIC COE and LCOC ##\n",
    "print('calculate annual electricity cost (county-level)')\n",
    "proc.com_utils_to_county(utils_file = config.EIA_COM_PATH,\n",
    "                        util_county_cw_file = config.EIAID_TO_COUNTY_CW_PATH,\n",
    "                        outfile_county = os.path.join(config.OUTPUT_PATH,'cost-of-electricity','com-counties','com_counties_baseline.csv'),\n",
    "                        outfile_state = os.path.join(config.OUTPUT_PATH,'cost-of-electricity','com-states','com_states_baseline.csv'))\n",
    "print('calculate levelized cost of charging (county-level)')\n",
    "proc.calculate_county_workplace_public_l2_lcoc(coe_path = os.path.join(config.OUTPUT_PATH,'cost-of-electricity','com-counties','com_counties_baseline.csv'),\n",
    "                                    fixed_costs_file = os.path.join(config.DATA_PATH,'fixed-costs','workplace-public-l2','com_level2.txt'),\n",
    "                                    annual_maint_frac = 0.08, # source: NREL communication\n",
    "                                    equip_lifespan = 10, # source: https://afdc.energy.gov/files/u/publication/evse_cost_report_2015.pdf\n",
    "                                    equip_utilization_kwh_per_day = 30, # source: INL\n",
    "                                    outpath = os.path.join(config.OUTPUT_PATH,'cost-of-charging','workplace-public-l2','work_pub_l2_counties_baseline.csv'))"
   ]
  },
  {
   "cell_type": "markdown",
   "metadata": {},
   "source": [
    "### DCFC COE\n",
    "This block only runs if `run_DCFC_COE` is set equal to `True` at the top of this notebook. Otherwise, this block is skipped b/c it takes 3.5-4 hours to run."
   ]
  },
  {
   "cell_type": "code",
   "execution_count": 6,
   "metadata": {
    "collapsed": true,
    "jupyter": {
     "outputs_hidden": true
    },
    "tags": []
   },
   "outputs": [
    {
     "name": "stdout",
     "output_type": "stream",
     "text": [
      "baseline:\n",
      "LCOC calculation complete, national LCOC (DCFC) is $0.25/kWh\n",
      "min:\n",
      "LCOC calculation complete, national LCOC (DCFC) is $0.2/kWh\n",
      "max:\n",
      "LCOC calculation complete, national LCOC (DCFC) is $0.31/kWh\n"
     ]
    }
   ],
   "source": [
    "if run_DCFC_COE == True:\n",
    "    db.calculate_annual_cost_dcfc_v2(dcfc_load_profiles = config.DCFC_PROFILES_DICT,\n",
    "                                    outpath=os.path.join(config.OUTPUT_PATH,'cost-of-electricity','urdb-dcfc-rates'),\n",
    "                                    log_lvl=1) #0=WARNING, 1=INFO, 2=DEBUG\n",
    "    # calculate annual electricity cost (utility-level)\n",
    "    proc.dcfc_rates_to_utils(urdb_rates_files = config.DCFC_PROFILES_DICT,\n",
    "                            inpath = os.path.join(config.OUTPUT_PATH,'cost-of-electricity','urdb-dcfc-rates'),\n",
    "                            outpath = os.path.join(config.OUTPUT_PATH,'cost-of-electricity','urdb-dcfc-utilities'))\n",
    "    #AFDC\n",
    "    if urdb_afdc_version == 'current':\n",
    "        stations = afdc.DCFastChargingLocator() #GET DCFC stations from AFDC\n",
    "    elif urdb_afdc_version == 'specific_date':\n",
    "        stations = afdc.DCFastChargingLocator(config.AFDC_PATH) #GET DCFC stations from AFDC\n",
    "    stations.join_county_geoid(us_counties_gdf_file = os.path.join(config.DATA_PATH,'gis','2019_counties','cb_2019_us_county_500k','cb_2019_us_county_500k.shp')) #join to county (spatial)\n",
    "    stations.aggregate_counties_to_csv(outfile = os.path.join(config.OUTPUT_PATH,'county-dcfc-counts','afdc_county_station_counts.csv')) #aggregate to county-lvl, output to .csv\n",
    "\n",
    "    # calculate annual electricity cost (county and state-level)\n",
    "    proc.dcfc_utils_to_county_and_state(\n",
    "        urdb_util_files = { 'p1':os.path.join(config.OUTPUT_PATH,'cost-of-electricity','urdb-dcfc-utilities','dcfc_utils_p1.csv'),\n",
    "                            'p2':os.path.join(config.OUTPUT_PATH,'cost-of-electricity','urdb-dcfc-utilities','dcfc_utils_p2.csv'),\n",
    "                            'p3':os.path.join(config.OUTPUT_PATH,'cost-of-electricity','urdb-dcfc-utilities','dcfc_utils_p3.csv'),\n",
    "                            'p4':os.path.join(config.OUTPUT_PATH,'cost-of-electricity','urdb-dcfc-utilities','dcfc_utils_p4.csv')},\n",
    "        eia_territory_file = config.EIAID_TO_COUNTY_CW_PATH,\n",
    "        outpath_county = os.path.join(config.OUTPUT_PATH,'cost-of-electricity','urdb-dcfc-counties'),\n",
    "        afdc_counties_file = os.path.join(config.OUTPUT_PATH,'county-dcfc-counts','afdc_county_station_counts.csv'),\n",
    "        outpath_state = os.path.join(config.OUTPUT_PATH,'cost-of-electricity','dcfc-states'))\n",
    "    \n",
    "    # EVI-FAST\n",
    "    # WARNING: This step takes about 230 min. (~4 hours)\n",
    "    file_macrobook = os.path.join(config.HOME_PATH,'evi-fast-tool','lcoc_county_dcfc.xlsm')\n",
    "    file_evi_fast = os.path.join(config.HOME_PATH,'evi-fast-tool','evi-fast_dcfc_lcoc.xlsm')\n",
    "    dcfc_scenarios = {\n",
    "                        1:'baseline_dcfc_station_p1_lcoc',\n",
    "                        2:'min_dcfc_station_p1_lcoc',\n",
    "                        3:'max_dcfc_station_p1_lcoc',\n",
    "                        4:'baseline_dcfc_station_p2_lcoc',\n",
    "                        5:'min_dcfc_station_p2_lcoc',\n",
    "                        6:'max_dcfc_station_p2_lcoc',\n",
    "                        7:'baseline_dcfc_station_p3_lcoc',\n",
    "                        8:'min_dcfc_station_p3_lcoc',\n",
    "                        9:'max_dcfc_station_p3_lcoc',\n",
    "                        10:'baseline_dcfc_station_p4_lcoc',\n",
    "                        11:'min_dcfc_station_p4_lcoc',\n",
    "                        12:'max_dcfc_station_p4_lcoc'\n",
    "                        }\n",
    "    proc.dcfc_county_to_lcoc_evifast(file_macrobook=file_macrobook,file_evi_fast=file_evi_fast,dcfc_scenarios=dcfc_scenarios)\n",
    "    proc.dcfc_county_lcoc_results_proc(file_macrobook=file_macrobook,outpath=os.path.join(config.OUTPUT_PATH,'cost-of-charging','dcfc'))\n",
    "\n",
    "# produce baseline, min, and max DCFC LCOC from 4 profiles\n",
    "# baseline\n",
    "print('baseline:')\n",
    "dcfc_lcoc_file = os.path.join(config.OUTPUT_PATH,'cost-of-charging','dcfc','dcfc_counties_baseline.csv')\n",
    "proc.combine_county_dcfc_profiles_into_single_lcoc(dcfc_lcoc_file = dcfc_lcoc_file,\n",
    "                                        load_profile_path = config.DCFC_PROFILES_DICT,\n",
    "                                        afdc_path = config.AFDC_PATH)\n",
    "# min\n",
    "print('min:')\n",
    "dcfc_lcoc_file = os.path.join(config.OUTPUT_PATH,'cost-of-charging','dcfc','dcfc_counties_min.csv')\n",
    "proc.combine_county_dcfc_profiles_into_single_lcoc(dcfc_lcoc_file = dcfc_lcoc_file,\n",
    "                                        load_profile_path = config.DCFC_PROFILES_DICT,\n",
    "                                        afdc_path = config.AFDC_PATH)\n",
    "# max\n",
    "print('max:')\n",
    "dcfc_lcoc_file = os.path.join(config.OUTPUT_PATH,'cost-of-charging','dcfc','dcfc_counties_max.csv')\n",
    "proc.combine_county_dcfc_profiles_into_single_lcoc(dcfc_lcoc_file = dcfc_lcoc_file,\n",
    "                                        load_profile_path = config.DCFC_PROFILES_DICT,\n",
    "                                        afdc_path = config.AFDC_PATH)"
   ]
  },
  {
   "cell_type": "markdown",
   "metadata": {},
   "source": [
    "## Combined LCOC"
   ]
  },
  {
   "cell_type": "code",
   "execution_count": 7,
   "metadata": {},
   "outputs": [
    {
     "name": "stdout",
     "output_type": "stream",
     "text": [
      "Combined county-level LCOC calculation complete, national LCOC is $0.16/kWh\n"
     ]
    }
   ],
   "source": [
    "# Combine\n",
    "lcoc_df = proc.combine_county_res_work_dcfc_lcoc(\n",
    "                    res_df = pd.read_csv(os.path.join(config.HOME_PATH,'outputs','cost-of-charging','residential','res_counties_baseline.csv')),\n",
    "                    wrk_df = pd.read_csv(os.path.join(config.HOME_PATH,'outputs','cost-of-charging','workplace-public-l2','work_pub_l2_counties_baseline.csv')),\n",
    "                    dcfc_df = pd.read_csv(os.path.join(config.HOME_PATH,'outputs','cost-of-charging','dcfc','dcfc_counties_baseline.csv')),\n",
    "                    eia_county_lookup_df = pd.read_csv(config.EIA_TO_COUNTY_LOOKUP_PATH),\n",
    "                    res_wgt = 0.81,\n",
    "                    wrk_wgt = 0.14,\n",
    "                    dcfc_wgt = 0.05,\n",
    "                    print_message = True,\n",
    "                    outpath = os.path.join('..','outputs','cost-of-charging','comb'))"
   ]
  }
 ],
 "metadata": {
  "kernelspec": {
   "display_name": "Python 3.9.7 ('lcoc_v2')",
   "language": "python",
   "name": "python3"
  },
  "language_info": {
   "codemirror_mode": {
    "name": "ipython",
    "version": 3
   },
   "file_extension": ".py",
   "mimetype": "text/x-python",
   "name": "python",
   "nbconvert_exporter": "python",
   "pygments_lexer": "ipython3",
   "version": "3.9.7"
  },
  "vscode": {
   "interpreter": {
    "hash": "b40e27791b908227b3032aa3ae6729a7e879e1a7a6b768942c6956885f9b61a3"
   }
  }
 },
 "nbformat": 4,
 "nbformat_minor": 4
}
