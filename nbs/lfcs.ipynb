{
 "cells": [
  {
   "cell_type": "markdown",
   "metadata": {},
   "source": [
    "# Lifetime Fuel Cost Savings (LFCS) Analysis  \n",
    "The LFCS describes the total discounted fuel cost savings for an EV when compared to a conventional vehicle over a fixed lifespan and identical operating conditions (i.e., annual miles driven). It is an aggregate measure of the discounted cumulative cost savings associated with lower present day and projected future fuel costs for EVs. From a cost of ownership perspective, the LFCS offsets the purchase price premium paid by EV owners."
   ]
  },
  {
   "cell_type": "code",
   "execution_count": 1,
   "metadata": {},
   "outputs": [],
   "source": [
    "import os\n",
    "import numpy as np\n",
    "import pandas as pd"
   ]
  },
  {
   "cell_type": "code",
   "execution_count": 2,
   "metadata": {},
   "outputs": [],
   "source": [
    "# discount rate\n",
    "dr = 0.035 #source: Mercatus Center\n",
    "dr_low = 0.03\n",
    "dr_high = 0.07\n",
    "\n",
    "# powertrain efficiencies\n",
    "icev_eff = 29 #mpg (source: EPA)\n",
    "bev_eff = 119 #mpgge (source: EPA)\n",
    "hev_eff = 45 #mpg (source: EPA)\n",
    "\n",
    "# lifetime vmt\n",
    "vmt = np.array([13065] * 3 + [12582] * 3 + [11432] * 4 + [7812] * 5) #source: NHTS 2017 (Table 22)\n",
    "vmt_low = vmt * 100e3 / vmt.sum() #100k lifetime VMT\n",
    "vmt_high = vmt * 200e3 / vmt.sum() #200k lifetime VMT"
   ]
  },
  {
   "cell_type": "code",
   "execution_count": 2,
   "metadata": {},
   "outputs": [],
   "source": [
    "\n",
    "\n",
    "kwh_to_gge = 1 / 33.7 #source: https://epact.energy.gov/fuel-conversion-factors\n",
    "bev_kwh_per_mile = 1 / (bev_eff * kwh_to_gge)\n",
    "phev_chevy_volt_pct_e_miles = 0.76 #source: 2018 EPA Automotive Trends Report (Cheverolet Volt)\n",
    "phev_prius_prime_e_miles = 0.53 #source 2018 EPA Automotive Trends Report (Prius Prime w/ 25 miles e-range)\n",
    "lifespan = 15\n",
    "\n",
    "# load data\n",
    "aaa_df = pd.read_csv('../data/aaa/190702_fuel_prices_aaa.csv')\n",
    "eia_df = pd.read_csv('../data/eia/15yr-gas-electricity-price-projections/eia_aeo19_gas_electricity_price_projections.csv', skiprows=4)\n",
    "\n",
    "bev_elec_baseline_df = pd.read_csv('../outputs/cost-of-charging/comb/comb_states_baseline.csv')\n",
    "bev_elec_lower_df = pd.read_csv('../outputs/cost-of-charging/comb/comb_states_lower_bnd.csv')\n",
    "bev_elec_lower_df.rename(columns={'lcoc_min': 'lcoc_cost_per_kwh'}, inplace=True)\n",
    "bev_elec_upper_df = pd.read_csv('../outputs/cost-of-charging/comb/comb_states_upper_bnd.csv')\n",
    "bev_elec_upper_df.rename(columns={'lcoc_max': 'lcoc_cost_per_kwh'}, inplace=True)\n",
    "\n",
    "phev_elec_baseline_df = pd.read_csv('../outputs/cost-of-charging/comb/comb_states_phev_baseline.csv')\n",
    "phev_elec_lower_df = pd.read_csv('../outputs/cost-of-charging/comb/comb_states_phev_lower_bnd.csv')\n",
    "phev_elec_lower_df.rename(columns={'lcoc_min': 'lcoc_cost_per_kwh'}, inplace=True)\n",
    "phev_elec_upper_df = pd.read_csv('../outputs/cost-of-charging/comb/comb_states_phev_upper_bnd.csv')\n",
    "phev_elec_upper_df.rename(columns={'lcoc_max': 'lcoc_cost_per_kwh'}, inplace=True)"
   ]
  },
  {
   "cell_type": "code",
   "execution_count": 3,
   "metadata": {},
   "outputs": [],
   "source": [
    "# Preprocessing\n",
    "eia_df.rename(columns={'Residential: Electricity: United States: Reference case Indexed to 2019 as percent': 'ref_elec_cost_sf',\n",
    "                       'Residential: Electricity: United States: High oil price Indexed to 2019 as percent': 'highoil_elec_cost_sf',\n",
    "                       'Residential: Electricity: United States: Low oil price Indexed to 2019 as percent': 'lowoil_elec_cost_sf',\n",
    "                       'Transportation: Motor Gasoline: United States: Reference case Indexed to 2019 as percent': 'ref_gas_cost_sf',\n",
    "                       'Transportation: Motor Gasoline: United States: High oil price Indexed to 2019 as percent': 'highoil_gas_cost_sf',\n",
    "                       'Transportation: Motor Gasoline: United States: Low oil price Indexed to 2019 as percent': 'lowoil_gas_cost_sf'},\n",
    "             inplace=True)\n",
    "\n",
    "eia_df = eia_df[(eia_df.Year >= 2019)&(eia_df.Year < 2034)].sort_values('Year').reset_index(drop=True)\n",
    "eia_df['ref_elec_cost_sf'] = 1 + eia_df['ref_elec_cost_sf'] / 100\n",
    "eia_df['highoil_elec_cost_sf'] = 1 + eia_df['highoil_elec_cost_sf'] / 100\n",
    "eia_df['lowoil_elec_cost_sf'] = 1 + eia_df['lowoil_elec_cost_sf'] / 100\n",
    "eia_df['ref_gas_cost_sf'] = 1 + eia_df['ref_gas_cost_sf'] / 100\n",
    "eia_df['highoil_gas_cost_sf'] = 1 + eia_df['highoil_gas_cost_sf'] / 100\n",
    "eia_df['lowoil_gas_cost_sf'] = 1 + eia_df['lowoil_gas_cost_sf'] / 100\n",
    "\n",
    "aaa_df = aaa_df.sort_values('state').reset_index(drop=True)\n",
    "\n",
    "bev_elec_baseline_df = bev_elec_baseline_df.sort_values('state').reset_index(drop=True)\n",
    "bev_elec_lower_df = bev_elec_lower_df.sort_values('state').reset_index(drop=True)\n",
    "bev_elec_upper_df = bev_elec_upper_df.sort_values('state').reset_index(drop=True)\n",
    "\n",
    "phev_elec_baseline_df = phev_elec_baseline_df.sort_values('state').reset_index(drop=True)\n",
    "phev_elec_lower_df = phev_elec_lower_df.sort_values('state').reset_index(drop=True)\n",
    "phev_elec_upper_df = phev_elec_upper_df.sort_values('state').reset_index(drop=True)"
   ]
  },
  {
   "cell_type": "code",
   "execution_count": 4,
   "metadata": {},
   "outputs": [],
   "source": [
    "# Calculate lifetime fuel costs \n",
    "\n",
    "### options ###\n",
    "tot_miles = vmt #{vmt, vmt_low, vmt_high}\n",
    "elec_price_scen = 'ref_elec_cost_sf' #{'ref_elec_cost_sf', 'highoil_elec_cost_sf', 'lowoil_elec_cost_sf'}\n",
    "gas_price_scen = 'ref_gas_cost_sf' #{'ref_gas_cost_sf', 'highoil_gas_cost_sf', 'lowoil_gas_cost_sf'}\n",
    "discount_rate = dr #{dr, dr_low, dr_high}\n",
    "phev_utility_factor = phev_chevy_volt_pct_e_miles #{phev_chevy_volt_pct_e_miles, phev_prius_prime_e_miles}\n",
    "### ~~~~~~ ###\n",
    "\n",
    "# gasoline for ICEV, PHEV\n",
    "icev_gallons = tot_miles / icev_eff\n",
    "phev_gallons = (tot_miles * (1 - phev_utility_factor)) / hev_eff\n",
    "\n",
    "for y, l in zip(range(2019, 2019 + lifespan), range(lifespan)):\n",
    "    colname = str(y)\n",
    "    cost_wo_discount = aaa_df['regular'] * float(eia_df[eia_df.Year==y][gas_price_scen])\n",
    "    cost_w_discount = cost_wo_discount / (1 + discount_rate)**l\n",
    "    aaa_df[colname] = cost_w_discount\n",
    "    \n",
    "# electricity for BEV, PHEV\n",
    "dfs = [bev_elec_baseline_df, bev_elec_lower_df, bev_elec_upper_df,\n",
    "       phev_elec_baseline_df, phev_elec_lower_df, phev_elec_upper_df]\n",
    "\n",
    "bev_kwh = tot_miles * bev_kwh_per_mile\n",
    "phev_kwh = tot_miles * phev_utility_factor * bev_kwh_per_mile\n",
    "\n",
    "for df in dfs:\n",
    "    for y, l in zip(range(2019, 2019 + lifespan), range(lifespan)):\n",
    "        colname = str(y)\n",
    "        cost_wo_discount = df['lcoc_cost_per_kwh'] * float(eia_df[eia_df.Year==y][elec_price_scen])\n",
    "        cost_w_discount = cost_wo_discount / (1 + discount_rate)**l\n",
    "        df[colname] = cost_w_discount\n",
    "    \n",
    "icev_lifetime_fuel_cost = (aaa_df.loc[:, '2019':] * icev_gallons).sum(axis=1)\n",
    "phev_lifetime_fuel_cost_gas = (aaa_df.loc[:, '2019':] * phev_gallons).sum(axis=1)\n",
    "bev_baseline_lifetime_fuel_cost = (bev_elec_baseline_df.loc[:, '2019':] * bev_kwh).sum(axis=1)\n",
    "bev_lower_lifetime_fuel_cost = (bev_elec_lower_df.loc[:, '2019':] * bev_kwh).sum(axis=1)\n",
    "bev_upper_lifetime_fuel_cost = (bev_elec_upper_df.loc[:, '2019':] * bev_kwh).sum(axis=1)\n",
    "phev_baseline_lifetime_fuel_cost_elec = (phev_elec_baseline_df.loc[:, '2019':] * phev_kwh).sum(axis=1)\n",
    "phev_lower_lifetime_fuel_cost_elec = (phev_elec_lower_df.loc[:, '2019':] * phev_kwh).sum(axis=1)\n",
    "phev_upper_lifetime_fuel_cost_elec = (phev_elec_upper_df.loc[:, '2019':] * phev_kwh).sum(axis=1)\n",
    "\n",
    "phev_baseline_lifetime_fuel_cost = phev_lifetime_fuel_cost_gas + phev_baseline_lifetime_fuel_cost_elec\n",
    "phev_lower_lifetime_fuel_cost = phev_lifetime_fuel_cost_gas + phev_lower_lifetime_fuel_cost_elec\n",
    "phev_upper_lifetime_fuel_cost = phev_lifetime_fuel_cost_gas + phev_upper_lifetime_fuel_cost_elec"
   ]
  },
  {
   "cell_type": "code",
   "execution_count": 5,
   "metadata": {},
   "outputs": [],
   "source": [
    "# Create lifetime fuel costs DataFrame\n",
    "states = aaa_df['state']\n",
    "lfc_df = pd.DataFrame({'state': states,\n",
    "                       'lfc_icev': icev_lifetime_fuel_cost,\n",
    "                       'lfc_bev_baseline': bev_baseline_lifetime_fuel_cost,\n",
    "                       'lfc_bev_lower': bev_lower_lifetime_fuel_cost,\n",
    "                       'lfc_bev_upper': bev_upper_lifetime_fuel_cost,\n",
    "                       'lfc_phev_baseline': phev_baseline_lifetime_fuel_cost,\n",
    "                       'lfc_phev_lower': phev_lower_lifetime_fuel_cost,\n",
    "                       'lfc_phev_upper': phev_upper_lifetime_fuel_cost\n",
    "                      })\n",
    "\n",
    "lfc_df['lfcs_bev_baseline'] = lfc_df['lfc_icev'] - lfc_df['lfc_bev_baseline']\n",
    "lfc_df['lfcs_bev_lower'] = lfc_df['lfc_icev'] - lfc_df['lfc_bev_lower']\n",
    "lfc_df['lfcs_bev_upper'] = lfc_df['lfc_icev'] - lfc_df['lfc_bev_upper']\n",
    "lfc_df['lfcs_phev_baseline'] = lfc_df['lfc_icev'] - lfc_df['lfc_phev_baseline']\n",
    "lfc_df['lfcs_phev_lower'] = lfc_df['lfc_icev'] - lfc_df['lfc_phev_lower']\n",
    "lfc_df['lfcs_phev_upper'] = lfc_df['lfc_icev'] - lfc_df['lfc_phev_upper']"
   ]
  },
  {
   "cell_type": "code",
   "execution_count": 7,
   "metadata": {},
   "outputs": [],
   "source": [
    "lfc_df.sort_values('state').to_csv('../outputs/lfcs-analysis/state_results.csv', index=False)"
   ]
  }
 ],
 "metadata": {
  "interpreter": {
   "hash": "2bf138e6a8722552a69bc840c52a252bdc0d24597da1ca22aa568354346b6069"
  },
  "kernelspec": {
   "display_name": "Python 3.9.7 ('lcoc')",
   "language": "python",
   "name": "python3"
  },
  "language_info": {
   "codemirror_mode": {
    "name": "ipython",
    "version": 3
   },
   "file_extension": ".py",
   "mimetype": "text/x-python",
   "name": "python",
   "nbconvert_exporter": "python",
   "pygments_lexer": "ipython3",
   "version": "3.9.7"
  }
 },
 "nbformat": 4,
 "nbformat_minor": 4
}
