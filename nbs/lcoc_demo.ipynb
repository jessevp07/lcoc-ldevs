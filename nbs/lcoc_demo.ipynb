{
 "cells": [
  {
   "cell_type": "markdown",
   "metadata": {},
   "source": [
    "# Calculating the Levelized Cost of Charging \n",
    "EIA reports and [The Utility Rate Database](https://openei.org/wiki/Utility_Rate_Database) were used to estimate the annual cost of electricity for EV charging loads at the rate-, utility-, and state-levels. For residential TOU rates (URDB), it is assumed that the consumer will always charge at the lowest possible rate (off-peak). In determining the cost of electricity for residential charging, rates with demand charges are not included as they would require typical household energy profiles that vary greatly on a case-by-case basis. For estimating the cost of electricity for commercial use (e.g. DCFC stations), typical energy profiles (electricity demand scenarios) were generated to estimate fixed, demand, and energy charges for a variety of rate structures (TOU, tier, seasonal, demand, etc.)."
   ]
  },
  {
   "cell_type": "code",
   "execution_count": 1,
   "metadata": {},
   "outputs": [],
   "source": [
    "import sys\n",
    "import logging\n",
    "import numpy as np\n",
    "import pandas as pd\n",
    "\n",
    "sys.path.append(os.path.join('..',''))\n",
    "import config\n",
    "import lcoc.urdb as urdb\n",
    "import lcoc.afdc as afdc\n",
    "import lcoc.processing as proc\n",
    "import os"
   ]
  },
  {
   "cell_type": "markdown",
   "metadata": {},
   "source": [
    "### Load Data:"
   ]
  },
  {
   "cell_type": "code",
   "execution_count": 2,
   "metadata": {},
   "outputs": [
    {
     "name": "stdout",
     "output_type": "stream",
     "text": [
      "..\\data\\urdb\\usurdb_20190724.csv\n",
      "Total: (48556, 577)\n",
      "Res: (10972, 577)\n",
      "Com: (31236, 577)\n"
     ]
    }
   ],
   "source": [
    "urdb_path = config.URDB_PATH\n",
    "print(config.URDB_PATH)\n",
    "db = urdb.DatabaseRates(urdb_path)\n",
    "print(\"Total:\", db.rate_data.shape)\n",
    "print(\"Res:\", db.res_rate_data.shape)\n",
    "print(\"Com:\", db.com_rate_data.shape)"
   ]
  },
  {
   "cell_type": "markdown",
   "metadata": {},
   "source": [
    "### Preprocessing:"
   ]
  },
  {
   "cell_type": "code",
   "execution_count": 3,
   "metadata": {},
   "outputs": [
    {
     "name": "stdout",
     "output_type": "stream",
     "text": [
      "Res: (6094, 577)\n",
      "Com: (17886, 577)\n"
     ]
    }
   ],
   "source": [
    "#filter expired rates\n",
    "db.filter_stale_rates(industry='residential')\n",
    "print(\"Res:\", db.res_rate_data.shape)\n",
    "\n",
    "db.filter_stale_rates(industry='commercial')\n",
    "print(\"Com:\", db.com_rate_data.shape)"
   ]
  },
  {
   "cell_type": "code",
   "execution_count": 4,
   "metadata": {},
   "outputs": [],
   "source": [
    "#classify rates by is_tier, is_seasonal, is_TOU, is_ev-specific (residential only)\n",
    "ev_rate_words_filepath = '../filters/urdb_res_ev_specific_rate_words.txt'\n",
    "\n",
    "db.classify_rate_structures(industry='residential', \n",
    "                            ev_rate_words_file=ev_rate_words_filepath)\n",
    "\n",
    "db.classify_rate_structures(industry='commercial')\n",
    "\n",
    "#standardize units of reporting for commercial rates\n",
    "db.com_rate_preprocessing()"
   ]
  },
  {
   "cell_type": "code",
   "execution_count": 5,
   "metadata": {},
   "outputs": [
    {
     "name": "stdout",
     "output_type": "stream",
     "text": [
      "Res: (4729, 639)\n",
      "Com: (6020, 638)\n"
     ]
    }
   ],
   "source": [
    "filters_path = '..\\\\filters\\\\'\n",
    "\n",
    "#filter demand rates (residential only)\n",
    "db.filter_demand_rates(industry='residential') \n",
    "\n",
    "# filter commercial rates missing critical fields to approx the cost of electricity\n",
    "db.additional_com_rate_filters()\n",
    "\n",
    "#filter rates containing certain phrases in filters/\n",
    "db.filter_on_phrases(industry='residential', filters_path=filters_path)\n",
    "db.filter_on_phrases(industry='commercial', filters_path=filters_path)\n",
    "\n",
    "#combine base rate + adjusted rate\n",
    "db.combine_rates(industry='residential')\n",
    "db.combine_rates(industry='commercial')\n",
    "\n",
    "#filter null rates\n",
    "db.filter_null_rates(industry='residential')\n",
    "db.filter_null_rates(industry='commercial')\n",
    "\n",
    "print(\"Res:\", db.res_rate_data.shape)\n",
    "print(\"Com:\", db.com_rate_data.shape)"
   ]
  },
  {
   "cell_type": "code",
   "execution_count": 6,
   "metadata": {},
   "outputs": [
    {
     "data": {
      "text/plain": [
       "{'demand': 0,\n",
       " 'no_demand': 4729,\n",
       " 'demand/tier': 0,\n",
       " 'demand/fixed': 0,\n",
       " 'no_demand/tier': 1981,\n",
       " 'no_demand/fixed': 2748,\n",
       " 'demand/tier/seasonal': 0,\n",
       " 'demand/tier/no_seasonal': 0,\n",
       " 'demand/fixed/seasonal': 0,\n",
       " 'demand/fixed/no_seasonal': 0,\n",
       " 'no_demand/tier/seasonal': 814,\n",
       " 'no_demand/tier/no_seasonal': 1167,\n",
       " 'no_demand/fixed/seasonal': 525,\n",
       " 'no_demand/fixed/no_seasonal': 2223,\n",
       " 'demand/tier/seasonal/tou': 0,\n",
       " 'demand/tier/seasonal/no_tou': 0,\n",
       " 'demand/tier/no_seasonal/tou': 0,\n",
       " 'demand/tier/no_seasonal/no_tou': 0,\n",
       " 'demand/fixed/seasonal/tou': 0,\n",
       " 'demand/fixed/seasonal/no_tou': 0,\n",
       " 'demand/fixed/no_seasonal/tou': 0,\n",
       " 'demand/fixed/no_seasonal/no_tou': 0,\n",
       " 'no_demand/tier/seasonal/tou': 52,\n",
       " 'no_demand/tier/seasonal/no_tou': 762,\n",
       " 'no_demand/tier/no_seasonal/tou': 19,\n",
       " 'no_demand/tier/no_seasonal/no_tou': 1148,\n",
       " 'no_demand/fixed/seasonal/tou': 258,\n",
       " 'no_demand/fixed/seasonal/no_tou': 267,\n",
       " 'no_demand/fixed/no_seasonal/tou': 313,\n",
       " 'no_demand/fixed/no_seasonal/no_tou': 1910}"
      ]
     },
     "execution_count": 6,
     "metadata": {},
     "output_type": "execute_result"
    }
   ],
   "source": [
    "#res rate structure breakdown\n",
    "db.generate_classification_tree_values(industry='residential')"
   ]
  },
  {
   "cell_type": "code",
   "execution_count": 7,
   "metadata": {},
   "outputs": [
    {
     "data": {
      "text/plain": [
       "{'demand': 4159,\n",
       " 'no_demand': 1861,\n",
       " 'demand/tier': 1251,\n",
       " 'demand/fixed': 2908,\n",
       " 'no_demand/tier': 617,\n",
       " 'no_demand/fixed': 1244,\n",
       " 'demand/tier/seasonal': 149,\n",
       " 'demand/tier/no_seasonal': 1102,\n",
       " 'demand/fixed/seasonal': 502,\n",
       " 'demand/fixed/no_seasonal': 2406,\n",
       " 'no_demand/tier/seasonal': 191,\n",
       " 'no_demand/tier/no_seasonal': 426,\n",
       " 'no_demand/fixed/seasonal': 223,\n",
       " 'no_demand/fixed/no_seasonal': 1021,\n",
       " 'demand/tier/seasonal/tou': 16,\n",
       " 'demand/tier/seasonal/no_tou': 133,\n",
       " 'demand/tier/no_seasonal/tou': 13,\n",
       " 'demand/tier/no_seasonal/no_tou': 1089,\n",
       " 'demand/fixed/seasonal/tou': 218,\n",
       " 'demand/fixed/seasonal/no_tou': 284,\n",
       " 'demand/fixed/no_seasonal/tou': 248,\n",
       " 'demand/fixed/no_seasonal/no_tou': 2158,\n",
       " 'no_demand/tier/seasonal/tou': 3,\n",
       " 'no_demand/tier/seasonal/no_tou': 188,\n",
       " 'no_demand/tier/no_seasonal/tou': 4,\n",
       " 'no_demand/tier/no_seasonal/no_tou': 422,\n",
       " 'no_demand/fixed/seasonal/tou': 75,\n",
       " 'no_demand/fixed/seasonal/no_tou': 148,\n",
       " 'no_demand/fixed/no_seasonal/tou': 128,\n",
       " 'no_demand/fixed/no_seasonal/no_tou': 893}"
      ]
     },
     "execution_count": 7,
     "metadata": {},
     "output_type": "execute_result"
    }
   ],
   "source": [
    "#com rate structure breakdown\n",
    "db.generate_classification_tree_values(industry='commercial') "
   ]
  },
  {
   "cell_type": "markdown",
   "metadata": {},
   "source": [
    "### Residential cost of electricity, LCOC:"
   ]
  },
  {
   "cell_type": "code",
   "execution_count": 8,
   "metadata": {},
   "outputs": [
    {
     "name": "stdout",
     "output_type": "stream",
     "text": [
      "Complete, 4723 rates included.\n",
      "Wall time: 2min 5s\n"
     ]
    }
   ],
   "source": [
    "%%time\n",
    "#calculate annual electricity cost (rates)\n",
    "outpath='..\\\\outputs\\\\cost-of-electricity\\\\urdb-res-rates\\\\'\n",
    "db.calculate_annual_energy_cost_residential(outpath)"
   ]
  },
  {
   "cell_type": "code",
   "execution_count": 9,
   "metadata": {},
   "outputs": [
    {
     "name": "stdout",
     "output_type": "stream",
     "text": [
      "Complete, 2986 utitilies represented (309 TOU rates used).\n"
     ]
    }
   ],
   "source": [
    "#calculate annual electricity cost (utility-level)\n",
    "urdb_rates_file = '..\\\\outputs\\\\cost-of-electricity\\\\urdb-res-rates\\\\res_rates.csv'\n",
    "eia_cw_file = config.EIAID_TO_UTILITY_CW_PATH\n",
    "eia_utils_file = config.EIA_RES_PATH\n",
    "outpath = '..\\\\outputs\\\\cost-of-electricity\\\\res-utilities\\\\'\n",
    "\n",
    "df = proc.res_rates_to_utils(scenario='baseline',\n",
    "                             urdb_rates_file=urdb_rates_file,\n",
    "                             eia_cw_file=eia_cw_file,\n",
    "                             eia_utils_file=eia_utils_file,\n",
    "                             outpath=outpath)"
   ]
  },
  {
   "cell_type": "code",
   "execution_count": 24,
   "metadata": {},
   "outputs": [
    {
     "name": "stdout",
     "output_type": "stream",
     "text": [
      "Complete, national cost of electricity is $0.08/kWh.\n"
     ]
    }
   ],
   "source": [
    "#calculate annual electricity cost (state-level)\n",
    "utils_file = '..\\\\outputs\\\\cost-of-electricity\\\\res-utilities\\\\res_utils.csv' #lower_bnd_res_utils.csv, upper_bnd_res_utils.csv\n",
    "outfile = '..\\\\outputs\\\\cost-of-electricity\\\\res-states\\\\res_states_baseline.csv' #res_states_lower_bnd.csv, res_states_upper_bnd.csv\n",
    "proc.res_utils_to_state(utils_file=utils_file, outfile=outfile)"
   ]
  },
  {
   "cell_type": "code",
   "execution_count": 26,
   "metadata": {},
   "outputs": [],
   "source": [
    "vmt = np.array([13065] * 3 + [12582] * 3 + [11432] * 4 + [7812] * 5) #NHTS 2017 (Table 22)\n",
    "lifetime_vmt = vmt.sum()\n",
    "aavmt = lifetime_vmt / 15\n",
    "low_aavmt = 100000 / 15\n",
    "high_aavmt = 200000 / 15"
   ]
  },
  {
   "cell_type": "code",
   "execution_count": 29,
   "metadata": {},
   "outputs": [
    {
     "name": "stdout",
     "output_type": "stream",
     "text": [
      "BEV:\n",
      "LCOC calculation complete, national LCOC (residential) is $0.12/kWh\n"
     ]
    }
   ],
   "source": [
    "#calculate levelized cost of charging (state-level) BEV\n",
    "coe_file = '..\\\\outputs\\\\cost-of-electricity\\\\res-states\\\\res_states_baseline.csv' #res_states_lower_bnd.csv, res_states_upper_bnd.csv, res_states_baseline.csv\n",
    "\n",
    "print(\"BEV:\")\n",
    "# os.mkdir(os.path.join('..', 'outputs', 'cost-of-charging', 'residential'))\n",
    "proc.calculate_state_residential_lcoc(coe_file=coe_file,\n",
    "                                      fixed_costs_path = '..\\\\data\\\\fixed-costs\\\\residential\\\\',\n",
    "                                      veh_kwh_per_100miles = 28.33, #source: EPA\n",
    "                                      aavmt = aavmt, #average annual VMT\n",
    "                                      fraction_residential_charging = 0.81, #source: EPRI report\n",
    "                                      fraction_home_l1_charging = 0.16, #source: EPRI report (baseline - 0.16)\n",
    "                                      outfile = '..\\\\outputs\\\\cost-of-charging\\\\residential\\\\res_states_baseline.csv')"
   ]
  },
  {
   "cell_type": "code",
   "execution_count": 30,
   "metadata": {},
   "outputs": [
    {
     "name": "stdout",
     "output_type": "stream",
     "text": [
      "PHEV:\n",
      "LCOC calculation complete, national LCOC (residential) is $0.11/kWh\n"
     ]
    }
   ],
   "source": [
    "#calculate levelized cost of charging (state-level) PHEV\n",
    "coe_file = '..\\\\outputs\\\\cost-of-electricity\\\\res-states\\\\res_states_baseline.csv' #res_states_lower_bnd.csv, res_states_upper_bnd.csv, res_states_baseline.csv\n",
    "phev_charge_depl_perc = 0.76 #2019 EPA Automotive Trends Report - Table E.1, GM Volt\n",
    "aavmt_phev = aavmt * phev_charge_depl_perc\n",
    "\n",
    "print(\"PHEV:\")\n",
    "proc.calculate_state_residential_lcoc(coe_file=coe_file,\n",
    "                                      fixed_costs_path = '..\\\\data\\\\fixed-costs\\\\residential\\\\',\n",
    "                                      veh_kwh_per_100miles = 28.33, #EPA\n",
    "                                      aavmt = aavmt_phev,\n",
    "                                      fraction_residential_charging = 0.81, #source: EPRI report\n",
    "                                      fraction_home_l1_charging = 0.5, #source: EPRI report (baseline=0.5)\n",
    "                                      outfile = '..\\\\outputs\\\\cost-of-charging\\\\residential\\\\res_states_phev_baseline.csv')"
   ]
  },
  {
   "cell_type": "markdown",
   "metadata": {},
   "source": [
    "### Workplace/Public-L2 LCOC:"
   ]
  },
  {
   "cell_type": "code",
   "execution_count": 33,
   "metadata": {},
   "outputs": [
    {
     "name": "stdout",
     "output_type": "stream",
     "text": [
      "LCOC calculation complete, national LCOC (workplace/pub-L2) is $0.15/kWh\n"
     ]
    }
   ],
   "source": [
    "#calculate levelized cost of charging (state-level)\n",
    "coe_path = config.EIA_COM_PATH\n",
    "\n",
    "outpath = os.path.join('..', 'outputs', 'cost-of-charging', 'workplace-public-l2')\n",
    "if not os.path.exists(outpath):\n",
    "    os.mkdir(outpath)\n",
    "proc.calculate_state_workplace_public_l2_lcoc(coe_path = coe_path,\n",
    "                                              fixed_costs_file = '..\\\\data\\\\fixed-costs\\\\workplace-public-l2\\\\com_level2.txt',\n",
    "                                              equip_utilization_kwh_per_day = 30,\n",
    "                                              outpath = '..\\\\outputs\\\\cost-of-charging\\\\workplace-public-l2\\\\work_pub_l2_states_baseline.csv')"
   ]
  },
  {
   "cell_type": "markdown",
   "metadata": {},
   "source": [
    "### DCFC cost of electricity:\n",
    "**Attention: Paths must be modified to work from nbs dir**"
   ]
  },
  {
   "cell_type": "code",
   "execution_count": 34,
   "metadata": {
    "collapsed": true,
    "jupyter": {
     "outputs_hidden": true
    },
    "tags": []
   },
   "outputs": [
    {
     "name": "stdout",
     "output_type": "stream",
     "text": [
      "Wall time: 0 ns\n"
     ]
    }
   ],
   "source": [
    "%%time\n",
    "#WARNING - Takes ~4 days to complete on laptop!\n",
    "# db.calculate_annual_cost_dcfc(log_lvl=1) #0=WARNING, 1=INFO, 2=DEBUG"
   ]
  },
  {
   "cell_type": "code",
   "execution_count": 35,
   "metadata": {},
   "outputs": [
    {
     "name": "stdout",
     "output_type": "stream",
     "text": [
      "Utility-level results generated for p1.\n",
      "Utility-level results generated for p2.\n",
      "Utility-level results generated for p3.\n",
      "Utility-level results generated for p4.\n"
     ]
    }
   ],
   "source": [
    "#calculate annual electricity cost (utility-level)\n",
    "proc.dcfc_rates_to_utils()"
   ]
  },
  {
   "cell_type": "code",
   "execution_count": 37,
   "metadata": {},
   "outputs": [
    {
     "name": "stdout",
     "output_type": "stream",
     "text": [
      "Complete, 5757 stations in 1104 counties.\n"
     ]
    }
   ],
   "source": [
    "#AFDC\n",
    "stations = afdc.DCFastChargingLocator() #GET DCFC stations from AFDC\n",
    "stations.join_county_geoid(us_counties_gdf_file = os.path.join('..','data','gis','2019_counties','cb_2019_us_county_500k','cb_2019_us_county_500k.shp')) #join to county (spatial)\n",
    "stations.aggregate_counties_to_csv() #aggregate to county-lvl, output to .csv"
   ]
  },
  {
   "cell_type": "code",
   "execution_count": 38,
   "metadata": {},
   "outputs": [
    {
     "name": "stdout",
     "output_type": "stream",
     "text": [
      "State-level results generated for p1.\n",
      "State-level results generated for p2.\n",
      "State-level results generated for p3.\n",
      "State-level results generated for p4.\n"
     ]
    }
   ],
   "source": [
    "#calculate annual electricity cost (state-level)\n",
    "proc.dcfc_county_to_state()"
   ]
  },
  {
   "cell_type": "markdown",
   "metadata": {},
   "source": [
    "### DCFC LCOC:\n",
    "**note** - Values in *`outputs/cost-of-charging/dcfc/baseline_state_profiles.csv`* must be input from the EVI-FAST Excel tool before this step can be completed."
   ]
  },
  {
   "cell_type": "code",
   "execution_count": 39,
   "metadata": {},
   "outputs": [],
   "source": [
    "#produce single DCFC LCOC from 4 profiles\n",
    "# proc.combine_dcfc_profiles_into_single_lcoc()"
   ]
  },
  {
   "cell_type": "markdown",
   "metadata": {},
   "source": [
    "### Single LCOC:\n",
    "Combine residential, workplace/public-L2, and DCFC LCOC estimates into a single state-level LCOC."
   ]
  },
  {
   "cell_type": "code",
   "execution_count": 40,
   "metadata": {},
   "outputs": [
    {
     "name": "stdout",
     "output_type": "stream",
     "text": [
      "BEV:\n",
      "Combined LCOC calculation complete, national LCOC is $0.13/kWh\n"
     ]
    }
   ],
   "source": [
    "#calculate combined (res, work, pub-L2, DCFC) LCOC (state-level)\n",
    "print(\"BEV:\")\n",
    "proc.combine_res_work_dcfc_lcoc(res_wgt=0.81,#0.81, #0.45 (free workplace)\n",
    "                                wrk_wgt=0.14, #0.5 (free workplace)\n",
    "                                dcfc_wgt=0.05,\n",
    "                                res_lcoc_file='..\\\\outputs\\\\cost-of-charging\\\\residential\\\\res_states_baseline.csv',\n",
    "                                wrk_lcoc_file = '..\\\\outputs\\\\cost-of-charging\\\\workplace-public-l2\\\\work_pub_l2_states_baseline.csv',\n",
    "                                dcfc_lcoc_file = '..\\\\outputs\\\\cost-of-charging\\\\dcfc\\\\dcfc_states_baseline.csv',\n",
    "                                outfile='..\\\\outputs\\\\cost-of-charging\\\\comb\\\\comb_states_baseline.csv')"
   ]
  },
  {
   "cell_type": "code",
   "execution_count": null,
   "metadata": {},
   "outputs": [],
   "source": [
    "print(\"PHEV:\")\n",
    "proc.combine_res_work_dcfc_lcoc(res_wgt=0.81, #0.81\n",
    "                                wrk_wgt=0.19, #0.19\n",
    "                                dcfc_wgt=0,\n",
    "                                res_lcoc_file = '..\\\\outputs\\\\cost-of-charging\\\\residential\\\\res_states_phev_baseline.csv',\n",
    "                                wrk_lcoc_file = '..\\\\outputs\\\\cost-of-charging\\\\workplace-public-l2\\\\work_pub_l2_states_baseline.csv',\n",
    "                                outfile = '..\\\\outputs\\\\cost-of-charging\\\\comb\\\\comb_states_phev_baseline.csv')\n"
   ]
  },
  {
   "cell_type": "markdown",
   "metadata": {},
   "source": [
    "Perform left join on comb_states_lower_bnd w/ comb_states_lower_bnd_res_equip:  \n",
    "  \n",
    "(note: some states did not list a TOU rate in the URDB and, by default, are omitted from the table. This operation adds these states to the comb_states_lower_bnd tables by reporting the comb_states_lower_bnd_res_equip values)"
   ]
  },
  {
   "cell_type": "code",
   "execution_count": null,
   "metadata": {},
   "outputs": [],
   "source": [
    "#BEV\n",
    "bev_lower_bnd_df = pd.read_csv('..\\\\outputs\\\\cost-of-charging\\\\comb\\\\comb_states_lower_bnd.csv')\n",
    "bev_lower_bnd_df.index = bev_lower_bnd_df['state']\n",
    "bev_lower_bnd_df.drop(columns='state', inplace=True)\n",
    "\n",
    "bev_low_bnd_res_equip_df = pd.read_csv('..\\\\outputs\\\\cost-of-charging\\\\comb\\\\comb_states_lower_bnd_res_equip.csv')\n",
    "bev_low_bnd_res_equip_df.index = bev_low_bnd_res_equip_df['state']\n",
    "bev_low_bnd_res_equip_df.drop(columns='state', inplace=True)\n",
    "\n",
    "bev_low_bnd_res_equip_df.update(bev_lower_bnd_df)\n",
    "new_bev_lower_bnd_df = bev_low_bnd_res_equip_df.reset_index()\n",
    "new_bev_lower_bnd_df.to_csv('..\\\\outputs\\\\cost-of-charging\\\\comb\\\\comb_states_lower_bnd.csv')\n",
    "\n",
    "#PHEV\n",
    "phev_lower_bnd_df = pd.read_csv('..\\\\outputs\\\\cost-of-charging\\\\comb\\\\comb_states_phev_lower_bnd.csv')\n",
    "phev_lower_bnd_df.index = phev_lower_bnd_df['state']\n",
    "phev_lower_bnd_df.drop(columns='state', inplace=True)\n",
    "\n",
    "phev_low_bnd_res_equip_df = pd.read_csv('..\\\\outputs\\\\cost-of-charging\\\\comb\\\\comb_states_phev_lower_bnd_res_equip.csv')\n",
    "phev_low_bnd_res_equip_df.index = phev_low_bnd_res_equip_df['state']\n",
    "phev_low_bnd_res_equip_df.drop(columns='state', inplace=True)\n",
    "\n",
    "phev_low_bnd_res_equip_df.update(phev_lower_bnd_df)\n",
    "new_phev_lower_bnd_df = phev_low_bnd_res_equip_df.reset_index()\n",
    "new_phev_lower_bnd_df.to_csv('..\\\\outputs\\\\cost-of-charging\\\\comb\\\\comb_states_phev_lower_bnd.csv')"
   ]
  }
 ],
 "metadata": {
  "kernelspec": {
   "display_name": "Python 3.7.11 ('ev_gis_env')",
   "language": "python",
   "name": "python3"
  },
  "language_info": {
   "codemirror_mode": {
    "name": "ipython",
    "version": 3
   },
   "file_extension": ".py",
   "mimetype": "text/x-python",
   "name": "python",
   "nbconvert_exporter": "python",
   "pygments_lexer": "ipython3",
   "version": "3.7.11"
  },
  "vscode": {
   "interpreter": {
    "hash": "5757ac5005130b62e567d308449bc5a2a0d40a26f9cec29562933c53adc3e173"
   }
  }
 },
 "nbformat": 4,
 "nbformat_minor": 4
}
