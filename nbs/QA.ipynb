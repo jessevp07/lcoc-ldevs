{
 "cells": [
  {
   "cell_type": "markdown",
   "metadata": {},
   "source": [
    "# QA calculate_annual_energy_cost_residential_v2\n",
    "This notebook QAs version 2 of calculate_annual_energy_cost_residential (calculate_annual_energy_cost_residential_v2)."
   ]
  },
  {
   "cell_type": "code",
   "execution_count": 1,
   "metadata": {},
   "outputs": [],
   "source": [
    "import sys\n",
    "import logging\n",
    "import numpy as np\n",
    "import pandas as pd\n",
    "\n",
    "sys.path.append(os.path.join('..',''))\n",
    "import config\n",
    "import lcoc.urdb as urdb\n",
    "import lcoc.afdc as afdc\n",
    "import lcoc.processing as proc\n",
    "import os\n",
    "from IPython.display import display\n",
    "import xlwings as xw"
   ]
  },
  {
   "cell_type": "markdown",
   "metadata": {},
   "source": [
    "## Set parameters"
   ]
  },
  {
   "cell_type": "code",
   "execution_count": 2,
   "metadata": {},
   "outputs": [],
   "source": [
    "# Specify version of URDB and AFDC datasets to use. If a specific date, this must be specified in the config file. The current setting will download today's version of the datasets.\n",
    "urdb_afdc_version = 'specific_date' # 'current'"
   ]
  },
  {
   "cell_type": "markdown",
   "metadata": {},
   "source": [
    "## Load Data"
   ]
  },
  {
   "cell_type": "markdown",
   "metadata": {},
   "source": [
    "### Load & Process Data - V1"
   ]
  },
  {
   "cell_type": "code",
   "execution_count": 3,
   "metadata": {},
   "outputs": [
    {
     "name": "stdout",
     "output_type": "stream",
     "text": [
      "C:\\Users\\Jesse Vega-Perkins\\Documents\\thesis_ev\\02_analysis\\lcoc-ldevs\\data\\urdb\\usurdb_20220526.csv\n",
      "Total: (50311, 670)\n",
      "Res: (11460, 670)\n",
      "Com: (32503, 670)\n",
      "filter expired rates\n",
      "Res: (6151, 670)\n",
      "Com: (17961, 670)\n",
      "size of rate dataframes:\n",
      "Res: (4772, 732)\n",
      "Com: (7541, 731)\n",
      "res rate structure breakdown\n",
      "com rate structure breakdown\n"
     ]
    },
    {
     "data": {
      "text/plain": [
       "{'demand': 4196,\n",
       " 'no_demand': 3345,\n",
       " 'demand/tier': 1282,\n",
       " 'demand/fixed': 2914,\n",
       " 'no_demand/tier': 1299,\n",
       " 'no_demand/fixed': 2046,\n",
       " 'demand/tier/seasonal': 158,\n",
       " 'demand/tier/no_seasonal': 1124,\n",
       " 'demand/fixed/seasonal': 517,\n",
       " 'demand/fixed/no_seasonal': 2397,\n",
       " 'no_demand/tier/seasonal': 326,\n",
       " 'no_demand/tier/no_seasonal': 973,\n",
       " 'no_demand/fixed/seasonal': 320,\n",
       " 'no_demand/fixed/no_seasonal': 1726,\n",
       " 'demand/tier/seasonal/tou': 21,\n",
       " 'demand/tier/seasonal/no_tou': 137,\n",
       " 'demand/tier/no_seasonal/tou': 13,\n",
       " 'demand/tier/no_seasonal/no_tou': 1111,\n",
       " 'demand/fixed/seasonal/tou': 240,\n",
       " 'demand/fixed/seasonal/no_tou': 277,\n",
       " 'demand/fixed/no_seasonal/tou': 243,\n",
       " 'demand/fixed/no_seasonal/no_tou': 2154,\n",
       " 'no_demand/tier/seasonal/tou': 7,\n",
       " 'no_demand/tier/seasonal/no_tou': 319,\n",
       " 'no_demand/tier/no_seasonal/tou': 4,\n",
       " 'no_demand/tier/no_seasonal/no_tou': 969,\n",
       " 'no_demand/fixed/seasonal/tou': 96,\n",
       " 'no_demand/fixed/seasonal/no_tou': 224,\n",
       " 'no_demand/fixed/no_seasonal/tou': 171,\n",
       " 'no_demand/fixed/no_seasonal/no_tou': 1555}"
      ]
     },
     "execution_count": 3,
     "metadata": {},
     "output_type": "execute_result"
    }
   ],
   "source": [
    "## LOAD DATA ##\n",
    "if urdb_afdc_version == 'current':\n",
    "    db = urdb.DatabaseRates() # gets current snapshot of URDB and saves it to db\n",
    "elif urdb_afdc_version == 'specific_date':\n",
    "    urdb_path = config.URDB_PATH\n",
    "    print(config.URDB_PATH)\n",
    "    db = urdb.DatabaseRates(urdb_path)\n",
    "\n",
    "print(\"Total:\", db.rate_data.shape)\n",
    "print(\"Res:\", db.res_rate_data.shape)\n",
    "print(\"Com:\", db.com_rate_data.shape)\n",
    "\n",
    "print('filter expired rates')\n",
    "db.filter_stale_rates(industry='residential')\n",
    "print(\"Res:\", db.res_rate_data.shape)\n",
    "\n",
    "db.filter_stale_rates(industry='commercial')\n",
    "print(\"Com:\", db.com_rate_data.shape)\n",
    "\n",
    "# update commercial rates with manual changes to demand and energy usage limits (included in description but missing from database fields)\n",
    "urdb_rates_update = pd.read_excel(os.path.join(config.DATA_PATH,'urdb','urdb_rates_update_202205.xlsx'),sheet_name='changed_rates')\n",
    "urdb_rates_update.set_index(keys='label',inplace=True)\n",
    "db.com_rate_data.set_index(keys='label',inplace=True)\n",
    "db.com_rate_data.update(urdb_rates_update,overwrite=True)\n",
    "db.com_rate_data = db.com_rate_data.reset_index()\n",
    "\n",
    "# classify rates by is_tier, is_seasonal, is_TOU, is_ev-specific (residential only)\n",
    "ev_rate_words_filepath = os.path.join(config.HOME_PATH,'filters','urdb_res_ev_specific_rate_words.txt')\n",
    "\n",
    "db.classify_rate_structures(industry='residential', \n",
    "                            ev_rate_words_file=ev_rate_words_filepath)\n",
    "\n",
    "db.classify_rate_structures(industry='commercial')\n",
    "\n",
    "# standardize units of reporting for commercial rates\n",
    "db.com_rate_preprocessing()\n",
    "\n",
    "filters_path = os.path.join(config.HOME_PATH,'filters')\n",
    "\n",
    "# filter demand rates (residential only)\n",
    "db.filter_demand_rates(industry='residential') \n",
    "\n",
    "# filter commercial rates missing critical fields to approx the cost of electricity\n",
    "db.additional_com_rate_filters()\n",
    "\n",
    "# filter rates containing certain phrases in filters/\n",
    "db.filter_on_phrases(industry='residential', filters_path=filters_path)\n",
    "db.filter_on_phrases(industry='commercial', filters_path=filters_path)\n",
    "\n",
    "# combine base rate + adjusted rate\n",
    "db.combine_rates(industry='residential')\n",
    "db.combine_rates(industry='commercial')\n",
    "\n",
    "# filter null rates\n",
    "db.filter_null_rates(industry='residential')\n",
    "db.filter_null_rates(industry='commercial')\n",
    "\n",
    "print('size of rate dataframes:')\n",
    "print(\"Res:\", db.res_rate_data.shape)\n",
    "print(\"Com:\", db.com_rate_data.shape)\n",
    "\n",
    "print('res rate structure breakdown')\n",
    "db.generate_classification_tree_values(industry='residential')\n",
    "\n",
    "print('com rate structure breakdown')\n",
    "db.generate_classification_tree_values(industry='commercial')"
   ]
  },
  {
   "cell_type": "code",
   "execution_count": 4,
   "metadata": {},
   "outputs": [
    {
     "name": "stdout",
     "output_type": "stream",
     "text": [
      "Complete, 4766 rates included.\n"
     ]
    }
   ],
   "source": [
    "db.calculate_annual_energy_cost_residential(outpath = os.path.join(config.OUTPUT_PATH,'cost-of-electricity','urdb-res-rates'))"
   ]
  },
  {
   "cell_type": "markdown",
   "metadata": {},
   "source": [
    "### Load & Process Data - V2"
   ]
  },
  {
   "cell_type": "code",
   "execution_count": 5,
   "metadata": {},
   "outputs": [
    {
     "name": "stdout",
     "output_type": "stream",
     "text": [
      "C:\\Users\\Jesse Vega-Perkins\\Documents\\thesis_ev\\02_analysis\\lcoc-ldevs\\data\\urdb\\usurdb_20220526.csv\n",
      "Total: (50311, 670)\n",
      "Res: (11460, 670)\n",
      "Com: (32503, 670)\n",
      "filter expired rates\n",
      "Res: (6151, 670)\n",
      "Com: (17961, 670)\n",
      "size of rate dataframes:\n",
      "Res: (4772, 732)\n",
      "Com: (7541, 731)\n",
      "res rate structure breakdown\n",
      "com rate structure breakdown\n"
     ]
    },
    {
     "data": {
      "text/plain": [
       "{'demand': 4196,\n",
       " 'no_demand': 3345,\n",
       " 'demand/tier': 1282,\n",
       " 'demand/fixed': 2914,\n",
       " 'no_demand/tier': 1299,\n",
       " 'no_demand/fixed': 2046,\n",
       " 'demand/tier/seasonal': 158,\n",
       " 'demand/tier/no_seasonal': 1124,\n",
       " 'demand/fixed/seasonal': 517,\n",
       " 'demand/fixed/no_seasonal': 2397,\n",
       " 'no_demand/tier/seasonal': 326,\n",
       " 'no_demand/tier/no_seasonal': 973,\n",
       " 'no_demand/fixed/seasonal': 320,\n",
       " 'no_demand/fixed/no_seasonal': 1726,\n",
       " 'demand/tier/seasonal/tou': 21,\n",
       " 'demand/tier/seasonal/no_tou': 137,\n",
       " 'demand/tier/no_seasonal/tou': 13,\n",
       " 'demand/tier/no_seasonal/no_tou': 1111,\n",
       " 'demand/fixed/seasonal/tou': 240,\n",
       " 'demand/fixed/seasonal/no_tou': 277,\n",
       " 'demand/fixed/no_seasonal/tou': 243,\n",
       " 'demand/fixed/no_seasonal/no_tou': 2154,\n",
       " 'no_demand/tier/seasonal/tou': 7,\n",
       " 'no_demand/tier/seasonal/no_tou': 319,\n",
       " 'no_demand/tier/no_seasonal/tou': 4,\n",
       " 'no_demand/tier/no_seasonal/no_tou': 969,\n",
       " 'no_demand/fixed/seasonal/tou': 96,\n",
       " 'no_demand/fixed/seasonal/no_tou': 224,\n",
       " 'no_demand/fixed/no_seasonal/tou': 171,\n",
       " 'no_demand/fixed/no_seasonal/no_tou': 1555}"
      ]
     },
     "execution_count": 5,
     "metadata": {},
     "output_type": "execute_result"
    }
   ],
   "source": [
    "## LOAD DATA ##\n",
    "if urdb_afdc_version == 'current':\n",
    "    db = urdb.DatabaseRates() # gets current snapshot of URDB and saves it to db\n",
    "elif urdb_afdc_version == 'specific_date':\n",
    "    urdb_path = config.URDB_PATH\n",
    "    print(config.URDB_PATH)\n",
    "    db = urdb.DatabaseRates(urdb_path)\n",
    "\n",
    "print(\"Total:\", db.rate_data.shape)\n",
    "print(\"Res:\", db.res_rate_data.shape)\n",
    "print(\"Com:\", db.com_rate_data.shape)\n",
    "\n",
    "print('filter expired rates')\n",
    "db.filter_stale_rates(industry='residential')\n",
    "print(\"Res:\", db.res_rate_data.shape)\n",
    "\n",
    "db.filter_stale_rates(industry='commercial')\n",
    "print(\"Com:\", db.com_rate_data.shape)\n",
    "\n",
    "# update commercial rates with manual changes to demand and energy usage limits (included in description but missing from database fields)\n",
    "urdb_rates_update = pd.read_excel(os.path.join(config.DATA_PATH,'urdb','urdb_rates_update_202205.xlsx'),sheet_name='changed_rates')\n",
    "urdb_rates_update.set_index(keys='label',inplace=True)\n",
    "db.com_rate_data.set_index(keys='label',inplace=True)\n",
    "db.com_rate_data.update(urdb_rates_update,overwrite=True)\n",
    "db.com_rate_data = db.com_rate_data.reset_index()\n",
    "\n",
    "# classify rates by is_tier, is_seasonal, is_TOU, is_ev-specific (residential only)\n",
    "ev_rate_words_filepath = os.path.join(config.HOME_PATH,'filters','urdb_res_ev_specific_rate_words.txt')\n",
    "\n",
    "db.classify_rate_structures(industry='residential', \n",
    "                            ev_rate_words_file=ev_rate_words_filepath)\n",
    "\n",
    "db.classify_rate_structures(industry='commercial')\n",
    "\n",
    "# standardize units of reporting for commercial rates\n",
    "db.com_rate_preprocessing()\n",
    "\n",
    "filters_path = os.path.join(config.HOME_PATH,'filters')\n",
    "\n",
    "# filter demand rates (residential only)\n",
    "db.filter_demand_rates(industry='residential') \n",
    "\n",
    "# filter commercial rates missing critical fields to approx the cost of electricity\n",
    "db.additional_com_rate_filters()\n",
    "\n",
    "# filter rates containing certain phrases in filters/\n",
    "db.filter_on_phrases(industry='residential', filters_path=filters_path)\n",
    "db.filter_on_phrases(industry='commercial', filters_path=filters_path)\n",
    "\n",
    "# combine base rate + adjusted rate\n",
    "db.combine_rates(industry='residential')\n",
    "db.combine_rates(industry='commercial')\n",
    "\n",
    "# filter null rates\n",
    "db.filter_null_rates(industry='residential')\n",
    "db.filter_null_rates(industry='commercial')\n",
    "\n",
    "print('size of rate dataframes:')\n",
    "print(\"Res:\", db.res_rate_data.shape)\n",
    "print(\"Com:\", db.com_rate_data.shape)\n",
    "\n",
    "print('res rate structure breakdown')\n",
    "db.generate_classification_tree_values(industry='residential')\n",
    "\n",
    "print('com rate structure breakdown')\n",
    "db.generate_classification_tree_values(industry='commercial')"
   ]
  },
  {
   "cell_type": "code",
   "execution_count": 6,
   "metadata": {},
   "outputs": [
    {
     "name": "stdout",
     "output_type": "stream",
     "text": [
      "Complete, 4766 rates included.\n"
     ]
    }
   ],
   "source": [
    "db.calculate_annual_energy_cost_residential_v2(outpath = os.path.join(config.OUTPUT_PATH,'cost-of-electricity','urdb-res-rates'))"
   ]
  },
  {
   "cell_type": "markdown",
   "metadata": {},
   "source": [
    "As shown below, only 1 V2 rate is significantly different than its V1 counterpart (label #539fc1b9ec4f024c27d8aa17). This is because the period 1, tier 1 rate is nan, while the adjustment is 0.007274 (see rate page here: https://apps.openei.org/USURDB/rate/view/539fc1b9ec4f024c27d8aa17#3__Energy). In V2, the p1t1 rate becomes 0.007274 while in V1, it remains nan because in comb_rates, only the adjustment column has NA values filled with 0. V2 does not use columns created by comb_rates, and instead fills NA values in both the rate and adj columns with 0 before conducting the calculations. This is consistent with what is done for the DCFC calculations."
   ]
  },
  {
   "cell_type": "code",
   "execution_count": 7,
   "metadata": {},
   "outputs": [
    {
     "data": {
      "text/html": [
       "<div>\n",
       "<style scoped>\n",
       "    .dataframe tbody tr th:only-of-type {\n",
       "        vertical-align: middle;\n",
       "    }\n",
       "\n",
       "    .dataframe tbody tr th {\n",
       "        vertical-align: top;\n",
       "    }\n",
       "\n",
       "    .dataframe thead th {\n",
       "        text-align: right;\n",
       "    }\n",
       "</style>\n",
       "<table border=\"1\" class=\"dataframe\">\n",
       "  <thead>\n",
       "    <tr style=\"text-align: right;\">\n",
       "      <th></th>\n",
       "      <th>label</th>\n",
       "      <th>eiaid</th>\n",
       "      <th>name</th>\n",
       "      <th>is_default</th>\n",
       "      <th>startdate</th>\n",
       "      <th>enddate</th>\n",
       "      <th>latest_update</th>\n",
       "      <th>utility</th>\n",
       "      <th>sector</th>\n",
       "      <th>description</th>\n",
       "      <th>...</th>\n",
       "      <th>energyrate/period18/tier0</th>\n",
       "      <th>energyrate/period19/tier0</th>\n",
       "      <th>energyrate/period20/tier0</th>\n",
       "      <th>energyrate/period21/tier0</th>\n",
       "      <th>energyrate/period22/tier0</th>\n",
       "      <th>energyrate/period23/tier0</th>\n",
       "      <th>electricity_cost_per_kwh_v1</th>\n",
       "      <th>electricity_cost_per_kwh_v2</th>\n",
       "      <th>diff</th>\n",
       "      <th>check</th>\n",
       "    </tr>\n",
       "  </thead>\n",
       "  <tbody>\n",
       "    <tr>\n",
       "      <th>3778</th>\n",
       "      <td>539fc1b9ec4f024c27d8aa17</td>\n",
       "      <td>18813.0</td>\n",
       "      <td>Residential</td>\n",
       "      <td>NaN</td>\n",
       "      <td>NaN</td>\n",
       "      <td>NaN</td>\n",
       "      <td>2015-03-26 21:26:32</td>\n",
       "      <td>Village of Theresa, New York (Utility Company)</td>\n",
       "      <td>Residential</td>\n",
       "      <td>NaN</td>\n",
       "      <td>...</td>\n",
       "      <td>NaN</td>\n",
       "      <td>NaN</td>\n",
       "      <td>NaN</td>\n",
       "      <td>NaN</td>\n",
       "      <td>NaN</td>\n",
       "      <td>NaN</td>\n",
       "      <td>0.062849</td>\n",
       "      <td>0.050649</td>\n",
       "      <td>0.0122</td>\n",
       "      <td>False</td>\n",
       "    </tr>\n",
       "  </tbody>\n",
       "</table>\n",
       "<p>1 rows × 736 columns</p>\n",
       "</div>"
      ],
      "text/plain": [
       "                         label    eiaid         name is_default startdate  \\\n",
       "3778  539fc1b9ec4f024c27d8aa17  18813.0  Residential        NaN       NaN   \n",
       "\n",
       "      enddate        latest_update  \\\n",
       "3778      NaN  2015-03-26 21:26:32   \n",
       "\n",
       "                                             utility       sector description  \\\n",
       "3778  Village of Theresa, New York (Utility Company)  Residential         NaN   \n",
       "\n",
       "      ... energyrate/period18/tier0 energyrate/period19/tier0  \\\n",
       "3778  ...                       NaN                       NaN   \n",
       "\n",
       "     energyrate/period20/tier0  energyrate/period21/tier0  \\\n",
       "3778                       NaN                        NaN   \n",
       "\n",
       "      energyrate/period22/tier0  energyrate/period23/tier0  \\\n",
       "3778                        NaN                        NaN   \n",
       "\n",
       "      electricity_cost_per_kwh_v1  electricity_cost_per_kwh_v2    diff  check  \n",
       "3778                     0.062849                     0.050649  0.0122  False  \n",
       "\n",
       "[1 rows x 736 columns]"
      ]
     },
     "execution_count": 7,
     "metadata": {},
     "output_type": "execute_result"
    }
   ],
   "source": [
    "# QA\n",
    "res_df_v1 = pd.read_csv(os.path.join(config.HOME_PATH,'outputs','cost-of-electricity','urdb-res-rates','res_rates_v1.csv'),low_memory=False)\n",
    "res_df_v2 = pd.read_csv(os.path.join(config.HOME_PATH,'outputs','cost-of-electricity','urdb-res-rates','res_rates.csv'),low_memory=False)\n",
    "\n",
    "res_df_QA = res_df_v1.merge(res_df_v2[['label','electricity_cost_per_kwh']],how='left',on='label',suffixes=['_v1','_v2'])\n",
    "res_df_QA['diff'] = res_df_QA['electricity_cost_per_kwh_v1'] - res_df_QA['electricity_cost_per_kwh_v2']\n",
    "res_df_QA['check'] = res_df_QA['electricity_cost_per_kwh_v1'] == res_df_QA['electricity_cost_per_kwh_v2']\n",
    "res_df_QA[res_df_QA['diff']>=1E-10]"
   ]
  },
  {
   "cell_type": "code",
   "execution_count": 8,
   "metadata": {},
   "outputs": [
    {
     "name": "stdout",
     "output_type": "stream",
     "text": [
      "period: 1\n",
      "tier: 0\n"
     ]
    },
    {
     "data": {
      "text/plain": [
       "[0.1064]"
      ]
     },
     "metadata": {},
     "output_type": "display_data"
    },
    {
     "name": "stdout",
     "output_type": "stream",
     "text": [
      "tier: 1\n"
     ]
    },
    {
     "data": {
      "text/plain": [
       "[0.1064, 0.1264]"
      ]
     },
     "metadata": {},
     "output_type": "display_data"
    },
    {
     "name": "stdout",
     "output_type": "stream",
     "text": [
      "tier: 2\n"
     ]
    },
    {
     "data": {
      "text/plain": [
       "[0.1064, 0.1264, nan]"
      ]
     },
     "metadata": {},
     "output_type": "display_data"
    },
    {
     "name": "stdout",
     "output_type": "stream",
     "text": [
      "tier: 3\n"
     ]
    },
    {
     "data": {
      "text/plain": [
       "[0.1064, 0.1264, nan, nan]"
      ]
     },
     "metadata": {},
     "output_type": "display_data"
    },
    {
     "name": "stdout",
     "output_type": "stream",
     "text": [
      "tier: 4\n"
     ]
    },
    {
     "data": {
      "text/plain": [
       "[0.1064, 0.1264, nan, nan, nan]"
      ]
     },
     "metadata": {},
     "output_type": "display_data"
    },
    {
     "name": "stdout",
     "output_type": "stream",
     "text": [
      "tier: 5\n"
     ]
    },
    {
     "data": {
      "text/plain": [
       "[0.1064, 0.1264, nan, nan, nan, nan]"
      ]
     },
     "metadata": {},
     "output_type": "display_data"
    },
    {
     "name": "stdout",
     "output_type": "stream",
     "text": [
      "tier: 6\n"
     ]
    },
    {
     "data": {
      "text/plain": [
       "[0.1064, 0.1264, nan, nan, nan, nan, nan]"
      ]
     },
     "metadata": {},
     "output_type": "display_data"
    },
    {
     "name": "stdout",
     "output_type": "stream",
     "text": [
      "tier: 7\n"
     ]
    },
    {
     "data": {
      "text/plain": [
       "[0.1064, 0.1264, nan, nan, nan, nan, nan, nan]"
      ]
     },
     "metadata": {},
     "output_type": "display_data"
    }
   ],
   "source": [
    "# code from V1 function\n",
    "import warnings\n",
    "res_rates_tier = res_df_v1\n",
    "avg_costs = []\n",
    "i = 3768\n",
    "avg_tier_rates = []\n",
    "avg_tier_month_rates = []\n",
    "for p in range(24):\n",
    "    if p==0:\n",
    "        tier_rates = []\n",
    "        for t in range(11):\n",
    "            rate_str = 'energyrate/period{0}/tier{1}'.format(p,t)\n",
    "            rate = res_rates_tier.iloc[i][rate_str]\n",
    "            tier_rates.append(rate)\n",
    "            #display(tier_rates)\n",
    "        \n",
    "        with warnings.catch_warnings(): #supress warnings\n",
    "            warnings.simplefilter(\"ignore\", category=RuntimeWarning)\n",
    "            avg_tier_rate = np.nanmean(np.array(tier_rates))  \n",
    "        \n",
    "        avg_tier_rates.append(avg_tier_rate)\n",
    "\n",
    "    elif p==1:\n",
    "        print(f'period: {p}')\n",
    "        tier_rates = []\n",
    "        for t in range(8):\n",
    "            rate_str = 'energyrate/period{0}/tier{1}'.format(p,t)\n",
    "            rate = res_rates_tier.iloc[i][rate_str]\n",
    "            tier_rates.append(rate)\n",
    "            print(f'tier: {t}')\n",
    "            display(tier_rates)\n",
    "        \n",
    "        with warnings.catch_warnings(): #supress warnings\n",
    "            warnings.simplefilter(\"ignore\", category=RuntimeWarning)\n",
    "            avg_tier_rate = np.nanmean(np.array(tier_rates))\n",
    "\n",
    "        avg_tier_rates.append(avg_tier_rate)\n",
    "\n",
    "    elif p>=2 and p<6:\n",
    "        tier_rates = []\n",
    "        for t in range(5):\n",
    "            rate_str = 'energyrate/period{0}/tier{1}'.format(p,t)\n",
    "            rate = res_rates_tier.iloc[i][rate_str]\n",
    "            tier_rates.append(rate)\n",
    "            #display(tier_rates)\n",
    "        \n",
    "        with warnings.catch_warnings(): #supress warnings\n",
    "            warnings.simplefilter(\"ignore\", category=RuntimeWarning)\n",
    "            avg_tier_rate = np.nanmean(np.array(tier_rates))\n",
    "\n",
    "        avg_tier_rates.append(avg_tier_rate)\n",
    "\n",
    "    else:\n",
    "        rate_str = 'energyrate/period{0}/tier0'.format(p)\n",
    "        rate = res_rates_tier.iloc[i][rate_str]\n",
    "        avg_tier_rates.append(rate)"
   ]
  }
 ],
 "metadata": {
  "kernelspec": {
   "display_name": "Python 3.9.7 ('lcoc_v2')",
   "language": "python",
   "name": "python3"
  },
  "language_info": {
   "codemirror_mode": {
    "name": "ipython",
    "version": 3
   },
   "file_extension": ".py",
   "mimetype": "text/x-python",
   "name": "python",
   "nbconvert_exporter": "python",
   "pygments_lexer": "ipython3",
   "version": "3.9.7"
  },
  "vscode": {
   "interpreter": {
    "hash": "b40e27791b908227b3032aa3ae6729a7e879e1a7a6b768942c6956885f9b61a3"
   }
  }
 },
 "nbformat": 4,
 "nbformat_minor": 4
}
