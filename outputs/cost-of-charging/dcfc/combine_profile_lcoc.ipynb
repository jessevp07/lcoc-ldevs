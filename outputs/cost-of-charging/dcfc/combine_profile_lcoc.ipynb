{
 "cells": [
  {
   "cell_type": "code",
   "execution_count": 3,
   "metadata": {},
   "outputs": [],
   "source": [
    "import sys\n",
    "sys.path.append('../../..')\n",
    "from lcoc.processing import combine_dcfc_profiles_into_single_lcoc"
   ]
  },
  {
   "cell_type": "code",
   "execution_count": null,
   "metadata": {},
   "outputs": [],
   "source": [
    "dcfc_lcoc_baseline_fp = 'dcfc_states_baseline.csv'\n",
    "dcfc_lcoc_lower_bnd_fp = 'dcfc_states_lower_bnd_equip.csv'\n",
    "dcfc_lcoc_upper_bnd_fp = 'dcfc_states_upper_bnd_equip.csv'\n",
    "\n",
    "# Baseline\n",
    "combine_dcfc_profiles_into_single_lcoc(dcfc_lcoc_file = dcfc_lcoc_baseline_fp)\n",
    "\n",
    "# Lower Bound\n",
    "combine_dcfc_profiles_into_single_lcoc(dcfc_lcoc_file = dcfc_lcoc_lower_bnd_fp)\n",
    "\n",
    "# Upper Bound\n",
    "combine_dcfc_profiles_into_single_lcoc(dcfc_lcoc_file = dcfc_lcoc_upper_bnd_fp)\n",
    "    "
   ]
  }
 ],
 "metadata": {
  "kernelspec": {
   "display_name": "Python 3",
   "language": "python",
   "name": "python3"
  },
  "language_info": {
   "codemirror_mode": {
    "name": "ipython",
    "version": 3
   },
   "file_extension": ".py",
   "mimetype": "text/x-python",
   "name": "python",
   "nbconvert_exporter": "python",
   "pygments_lexer": "ipython3",
   "version": "3.9.7"
  }
 },
 "nbformat": 4,
 "nbformat_minor": 4
}
